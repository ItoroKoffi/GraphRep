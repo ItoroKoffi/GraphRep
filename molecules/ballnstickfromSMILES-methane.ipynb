{
  "cells": [
    {
      "cell_type": "markdown",
      "metadata": {},
      "source": [
        "\n",
        "# Basic Ball and Stick Models from SMILES\n",
        "\n",
        "A basic example of how to create clean ball and stick plot of molecules from their SMILES representation\n"
      ]
    },
    {
      "cell_type": "code",
      "execution_count": 2,
      "metadata": {
        "collapsed": false
      },
      "outputs": [],
      "source": [
        "from rdkit import Chem\n",
        "from rdkit.Chem.Draw import IPythonConsole\n",
        "from rdkit.Chem import AllChem\n",
        "import py3Dmol\n",
        "\n",
        "#!pip install cirpy\n",
        "import cirpy\n"
      ]
    },
    {
      "cell_type": "markdown",
      "metadata": {},
      "source": [
        "# Retrieve SMILES string given the name of a molecule using `cirpy`"
      ]
    },
    {
      "cell_type": "code",
      "execution_count": 3,
      "metadata": {},
      "outputs": [
        {
          "data": {
            "image/png": "[encoded data removed]",
            "text/plain": [
              "<rdkit.Chem.rdchem.Mol at 0x115427f90>"
            ]
          },
          "execution_count": 3,
          "metadata": {},
          "output_type": "execute_result"
        }
      ],
      "source": [
        "mol = \"methane\"\n",
        "methane_smile = cirpy.resolve(mol, \"smiles\") \n",
        "\n",
        "#You could also directly provide the SMILES string for the molecule if you have it\n",
        "#water_smile = \"[H]O[H]\"\n",
        "\n",
        "molecule = Chem.MolFromSmiles(methane_smile)\n",
        "molecule"
      ]
    },
    {
      "cell_type": "code",
      "execution_count": 4,
      "metadata": {},
      "outputs": [
        {
          "data": {
            "image/png": "[encoded data removed]",
            "text/plain": [
              "<rdkit.Chem.rdchem.Mol at 0x1154a7120>"
            ]
          },
          "execution_count": 4,
          "metadata": {},
          "output_type": "execute_result"
        }
      ],
      "source": [
        "methane_smile = \"C\"\n",
        "molecule = Chem.MolFromSmiles(methane_smile)\n",
        "molecule"
      ]
    },
    {
      "cell_type": "code",
      "execution_count": 5,
      "metadata": {},
      "outputs": [
        {
          "data": {
            "application/3dmoljs_load.v0": "<div id=\"3dmolviewer_1758563985224035\"  style=\"position: relative; width: 450px; height: 360px;\">\n        <p id=\"3dmolwarning_1758563985224035\" style=\"background-color:#ffcccc;color:black\">3Dmol.js failed to load for some reason.  Please check your browser console for error messages.<br></p>\n        </div>\n<script>\n\nvar loadScriptAsync = function(uri){\n  return new Promise((resolve, reject) => {\n    //this is to ignore the existence of requirejs amd\n    var savedexports, savedmodule;\n    if (typeof exports !== 'undefined') savedexports = exports;\n    else exports = {}\n    if (typeof module !== 'undefined') savedmodule = module;\n    else module = {}\n\n    var tag = document.createElement('script');\n    tag.src = uri;\n    tag.async = true;\n    tag.onload = () => {\n        exports = savedexports;\n        module = savedmodule;\n        resolve();\n    };\n  var firstScriptTag = document.getElementsByTagName('script')[0];\n  firstScriptTag.parentNode.insertBefore(tag, firstScriptTag);\n});\n};\n\nif(typeof $3Dmolpromise === 'undefined') {\n$3Dmolpromise = null;\n  $3Dmolpromise = loadScriptAsync('https://cdn.jsdelivr.net/npm/3dmol@2.5.2/build/3Dmol-min.js');\n}\n\nvar viewer_1758563985224035 = null;\nvar warn = document.getElementById(\"3dmolwarning_1758563985224035\");\nif(warn) {\n    warn.parentNode.removeChild(warn);\n}\n$3Dmolpromise.then(function() {\nviewer_1758563985224035 = $3Dmol.createViewer(document.getElementById(\"3dmolviewer_1758563985224035\"),{backgroundColor:\"white\"});\nviewer_1758563985224035.zoomTo();\n\tviewer_1758563985224035.addModel(\"\\n     RDKit          3D\\n\\n  5  4  0  0  0  0  0  0  0  0999 V2000\\n    0.0000    0.0000   -0.0000 C   0  0  0  0  0  0  0  0  0  0  0  0\\n   -0.6784    0.8735   -0.0863 H   0  0  0  0  0  0  0  0  0  0  0  0\\n   -0.4096   -0.8460   -0.5893 H   0  0  0  0  0  0  0  0  0  0  0  0\\n    0.0852   -0.2982    1.0652 H   0  0  0  0  0  0  0  0  0  0  0  0\\n    1.0028    0.2707   -0.3896 H   0  0  0  0  0  0  0  0  0  0  0  0\\n  1  2  1  0\\n  1  3  1  0\\n  1  4  1  0\\n  1  5  1  0\\nM  END\\n\",\"sdf\");\n\tviewer_1758563985224035.setStyle({\"elem\": \"C\"},{\"stick\": {\"color\": \"red\", \"radius\": 0.2}, \"sphere\": {\"color\": \"red\", \"scale\": 0.3}});\n\tviewer_1758563985224035.setStyle({\"elem\": \"H\"},{\"stick\": {\"color\": \"cyan\", \"radius\": 0.2}, \"sphere\": {\"color\": \"cyan\", \"scale\": 0.3}});\n\tviewer_1758563985224035.zoomTo();\nviewer_1758563985224035.render();\n});\n</script>",
            "text/html": [
              "<div id=\"3dmolviewer_1758563985224035\"  style=\"position: relative; width: 450px; height: 360px;\">\n",
              "        <p id=\"3dmolwarning_1758563985224035\" style=\"background-color:#ffcccc;color:black\">3Dmol.js failed to load for some reason.  Please check your browser console for error messages.<br></p>\n",
              "        </div>\n",
              "<script>\n",
              "\n",
              "var loadScriptAsync = function(uri){\n",
              "  return new Promise((resolve, reject) => {\n",
              "    //this is to ignore the existence of requirejs amd\n",
              "    var savedexports, savedmodule;\n",
              "    if (typeof exports !== 'undefined') savedexports = exports;\n",
              "    else exports = {}\n",
              "    if (typeof module !== 'undefined') savedmodule = module;\n",
              "    else module = {}\n",
              "\n",
              "    var tag = document.createElement('script');\n",
              "    tag.src = uri;\n",
              "    tag.async = true;\n",
              "    tag.onload = () => {\n",
              "        exports = savedexports;\n",
              "        module = savedmodule;\n",
              "        resolve();\n",
              "    };\n",
              "  var firstScriptTag = document.getElementsByTagName('script')[0];\n",
              "  firstScriptTag.parentNode.insertBefore(tag, firstScriptTag);\n",
              "});\n",
              "};\n",
              "\n",
              "if(typeof $3Dmolpromise === 'undefined') {\n",
              "$3Dmolpromise = null;\n",
              "  $3Dmolpromise = loadScriptAsync('https://cdn.jsdelivr.net/npm/3dmol@2.5.2/build/3Dmol-min.js');\n",
              "}\n",
              "\n",
              "var viewer_1758563985224035 = null;\n",
              "var warn = document.getElementById(\"3dmolwarning_1758563985224035\");\n",
              "if(warn) {\n",
              "    warn.parentNode.removeChild(warn);\n",
              "}\n",
              "$3Dmolpromise.then(function() {\n",
              "viewer_1758563985224035 = $3Dmol.createViewer(document.getElementById(\"3dmolviewer_1758563985224035\"),{backgroundColor:\"white\"});\n",
              "viewer_1758563985224035.zoomTo();\n",
              "\tviewer_1758563985224035.addModel(\"\\n     RDKit          3D\\n\\n  5  4  0  0  0  0  0  0  0  0999 V2000\\n    0.0000    0.0000   -0.0000 C   0  0  0  0  0  0  0  0  0  0  0  0\\n   -0.6784    0.8735   -0.0863 H   0  0  0  0  0  0  0  0  0  0  0  0\\n   -0.4096   -0.8460   -0.5893 H   0  0  0  0  0  0  0  0  0  0  0  0\\n    0.0852   -0.2982    1.0652 H   0  0  0  0  0  0  0  0  0  0  0  0\\n    1.0028    0.2707   -0.3896 H   0  0  0  0  0  0  0  0  0  0  0  0\\n  1  2  1  0\\n  1  3  1  0\\n  1  4  1  0\\n  1  5  1  0\\nM  END\\n\",\"sdf\");\n",
              "\tviewer_1758563985224035.setStyle({\"elem\": \"C\"},{\"stick\": {\"color\": \"red\", \"radius\": 0.2}, \"sphere\": {\"color\": \"red\", \"scale\": 0.3}});\n",
              "\tviewer_1758563985224035.setStyle({\"elem\": \"H\"},{\"stick\": {\"color\": \"cyan\", \"radius\": 0.2}, \"sphere\": {\"color\": \"cyan\", \"scale\": 0.3}});\n",
              "\tviewer_1758563985224035.zoomTo();\n",
              "viewer_1758563985224035.render();\n",
              "});\n",
              "</script>"
            ]
          },
          "metadata": {},
          "output_type": "display_data"
        }
      ],
      "source": [
        "# Code to visualize ball and stick model of molecules\n",
        "mol3d = Chem.AddHs(molecule)\n",
        "AllChem.EmbedMolecule(mol3d, AllChem.ETKDGv3())\n",
        "AllChem.UFFOptimizeMolecule(mol3d)\n",
        "mb = Chem.MolToMolBlock(mol3d)\n",
        "\n",
        "view = py3Dmol.view(width=450, height=360)\n",
        "view.addModel(mb, 'sdf')\n",
        "# Different colors for C and H\n",
        "view.setStyle({'elem': 'C'}, {'stick': {'color': 'red', 'radius': 0.2},\n",
        "                              'sphere': {'color': 'red', 'scale': 0.3}})\n",
        "view.setStyle({'elem': 'H'}, {'stick': {'color': 'cyan', 'radius': 0.2},\n",
        "                              'sphere': {'color': 'cyan', 'scale': 0.3}})\n",
        "view.zoomTo()\n",
        "view.show()  # In notebooks; to save: open('water.png','wb').write(view.png())"
      ]
    }
  ],
  "metadata": {
    "kernelspec": {
      "display_name": ".venv (3.9.6)",
      "language": "python",
      "name": "python3"
    },
    "language_info": {
      "codemirror_mode": {
        "name": "ipython",
        "version": 3
      },
      "file_extension": ".py",
      "mimetype": "text/x-python",
      "name": "python",
      "nbconvert_exporter": "python",
      "pygments_lexer": "ipython3",
      "version": "3.9.6"
    }
  },
  "nbformat": 4,
  "nbformat_minor": 0
}
