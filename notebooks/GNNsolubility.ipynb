{
  "cells": [
    {
      "cell_type": "markdown",
      "metadata": {
        "id": "view-in-github",
        "colab_type": "text"
      },
      "source": [
        "<a href=\"https://colab.research.google.com/github/ItoroKoffi/GraphRep/blob/main/GNNsolubility.ipynb\" target=\"_parent\"><img src=\"https://colab.research.google.com/assets/colab-badge.svg\" alt=\"Open In Colab\"/></a>"
      ]
    },
    {
      "cell_type": "markdown",
      "id": "22115d4d",
      "metadata": {
        "id": "22115d4d"
      },
      "source": [
        "# Intro to GNN solubilibity prediction\n",
        "Link: https://medium.com/@tejpal.abhyuday/application-of-gnn-for-calculating-the-solubility-of-molecule-graph-level-prediction-8bac5fabf600"
      ]
    },
    {
      "cell_type": "code",
      "execution_count": 5,
      "id": "91e84f64",
      "metadata": {
        "colab": {
          "base_uri": "https://localhost:8080/"
        },
        "id": "91e84f64",
        "outputId": "845dc6c9-434d-4055-c353-d8c70eb9d84c"
      },
      "outputs": [
        {
          "output_type": "stream",
          "name": "stdout",
          "text": [
            "Requirement already satisfied: rdkit in /usr/local/lib/python3.12/dist-packages (2025.9.1)\n",
            "Requirement already satisfied: numpy in /usr/local/lib/python3.12/dist-packages (from rdkit) (2.0.2)\n",
            "Requirement already satisfied: Pillow in /usr/local/lib/python3.12/dist-packages (from rdkit) (11.3.0)\n"
          ]
        }
      ],
      "source": [
        "# import packages\n",
        "#Install RDkit from pip install rdkit-pypi\n",
        "\n",
        "\n",
        "!pip install rdkit\n",
        "!pip install -q torch-geometric\n",
        "!pip install -q py3Dmol\n",
        "\n",
        "import rdkit\n",
        "from torch_geometric.datasets import MoleculeNet\n",
        "\n",
        "from rdkit import Chem\n",
        "from rdkit.Chem.Draw import IPythonConsole\n",
        "\n",
        "from rdkit.Chem import AllChem\n",
        "import py3Dmol\n",
        "\n",
        "\n",
        "import torch\n",
        "from torch.nn import Linear\n",
        "import torch.nn.functional as F\n",
        "from torch_geometric.nn import GCNConv, TopKPooling, global_mean_pool\n",
        "from torch_geometric.nn import global_mean_pool as gap, global_max_pool as gmp\n",
        "\n",
        "from torch_geometric.data import DataLoader\n",
        "import warnings\n",
        "\n",
        "import seaborn as sns\n",
        "\n",
        "import pandas as pd\n"
      ]
    },
    {
      "cell_type": "markdown",
      "id": "f3068c7d",
      "metadata": {
        "id": "f3068c7d"
      },
      "source": [
        "# Load and investigate the ESOL dataset"
      ]
    },
    {
      "cell_type": "code",
      "execution_count": 6,
      "id": "4fd97f78",
      "metadata": {
        "colab": {
          "base_uri": "https://localhost:8080/"
        },
        "id": "4fd97f78",
        "outputId": "2cea5bcf-05f2-4544-ff22-84ac724276f6"
      },
      "outputs": [
        {
          "output_type": "stream",
          "name": "stderr",
          "text": [
            "Downloading https://deepchemdata.s3-us-west-1.amazonaws.com/datasets/delaney-processed.csv\n",
            "Processing...\n",
            "Done!\n"
          ]
        },
        {
          "output_type": "execute_result",
          "data": {
            "text/plain": [
              "ESOL(1128)"
            ]
          },
          "metadata": {},
          "execution_count": 6
        }
      ],
      "source": [
        "# Load the ESOL dataset\n",
        "data = MoleculeNet(root=\".\", name=\"ESOL\")\n",
        "data"
      ]
    },
    {
      "cell_type": "code",
      "execution_count": 7,
      "id": "5513bf7f",
      "metadata": {
        "colab": {
          "base_uri": "https://localhost:8080/"
        },
        "id": "5513bf7f",
        "outputId": "821a4582-473f-4fcb-c895-b9850e7c6b99"
      },
      "outputs": [
        {
          "output_type": "stream",
          "name": "stdout",
          "text": [
            "Dataset type:  <class 'torch_geometric.datasets.molecule_net.MoleculeNet'>\n",
            "Dataset features:  9\n",
            "Dataset target:  734\n",
            "Dataset length:  <bound method InMemoryDataset.len of ESOL(1128)>\n",
            "Dataset sample:  Data(x=[32, 9], edge_index=[2, 68], edge_attr=[68, 3], smiles='OCC3OC(OCC2OC(OC(C#N)c1ccccc1)C(O)C(O)C2O)C(O)C(O)C3O ', y=[1, 1])\n",
            "Sample  nodes:  32\n",
            "Sample  edges:  68\n"
          ]
        },
        {
          "output_type": "stream",
          "name": "stderr",
          "text": [
            "/usr/local/lib/python3.12/dist-packages/torch_geometric/data/in_memory_dataset.py:91: UserWarning: Found floating-point labels while calling `dataset.num_classes`. Returning the number of unique elements. Please make sure that this is expected before proceeding.\n",
            "  return self._infer_num_classes(self._data.y)\n"
          ]
        }
      ],
      "source": [
        "# Investigate the ESOL dataset\n",
        "print(\"Dataset type: \", type(data))\n",
        "print(\"Dataset features: \", data.num_features)\n",
        "print(\"Dataset target: \", data.num_classes)\n",
        "print(\"Dataset length: \", data.len)\n",
        "print(\"Dataset sample: \", data[0])\n",
        "print(\"Sample  nodes: \", data[0].num_nodes)\n",
        "print(\"Sample  edges: \", data[0].num_edges)\n"
      ]
    },
    {
      "cell_type": "markdown",
      "id": "9b8ea2da",
      "metadata": {
        "id": "9b8ea2da"
      },
      "source": [
        "We can see there are 9 features per node of the graph and we have total of 734 graphs. We have a target dimension of size 734 means for every graph we have some solubility (numerical ) value in the solvent."
      ]
    },
    {
      "cell_type": "code",
      "execution_count": 8,
      "id": "d55d3fa2",
      "metadata": {
        "colab": {
          "base_uri": "https://localhost:8080/"
        },
        "id": "d55d3fa2",
        "outputId": "eca54808-5a18-40b1-ee63-3f2162d8ac7e"
      },
      "outputs": [
        {
          "output_type": "stream",
          "name": "stdout",
          "text": [
            "Data(x=[19, 9], edge_index=[2, 38], edge_attr=[38, 3], smiles='COP(=O)(OC)OC(=CCl)c1cc(Cl)c(Cl)cc1Cl', y=[1, 1])\n"
          ]
        },
        {
          "output_type": "execute_result",
          "data": {
            "text/plain": [
              "(torch.Size([19, 9]), torch.Size([38, 2]), torch.Size([1, 1]))"
            ]
          },
          "metadata": {},
          "execution_count": 8
        }
      ],
      "source": [
        "# Investiagte the features of the node of graph\n",
        "data[0].x\n",
        "\n",
        "# Investigating the edges in sparse COO (or triplet/triad) format.\n",
        "# See https://docs.scipy.org/doc/scipy/reference/generated/scipy.sparse.coo_matrix.html\n",
        "# They provide only i and j, and ignore the value (A) because it is 1 for the adjacency matrix.\n",
        "# Shape [2, num_edges]\n",
        "data[0].edge_index.t()\n",
        "\n",
        "# See the target value of data[0]\n",
        "data[0].y\n",
        "\n",
        "print(data[1127])\n",
        "data[1127].x.shape, data[1127].edge_index.t().shape, data[1127].y.shape"
      ]
    },
    {
      "cell_type": "code",
      "execution_count": 9,
      "id": "2b418f3f",
      "metadata": {
        "colab": {
          "base_uri": "https://localhost:8080/"
        },
        "id": "2b418f3f",
        "outputId": "05f065ae-8ad4-4dde-abff-d0e22ba50e4e"
      },
      "outputs": [
        {
          "output_type": "execute_result",
          "data": {
            "text/plain": [
              "tensor([[ 1,  0,  0],\n",
              "        [ 1,  0,  0],\n",
              "        [ 1,  0,  0],\n",
              "        [ 1,  0,  0],\n",
              "        [ 2,  0,  0],\n",
              "        [ 1,  0,  0],\n",
              "        [ 1,  0,  0],\n",
              "        [ 2,  0,  0],\n",
              "        [ 1,  0,  0],\n",
              "        [ 1,  0,  0],\n",
              "        [ 1,  0,  0],\n",
              "        [ 1,  0,  0],\n",
              "        [ 1,  0,  1],\n",
              "        [ 1,  0,  1],\n",
              "        [ 2,  0,  1],\n",
              "        [ 1,  0,  1],\n",
              "        [ 2,  0,  1],\n",
              "        [ 1,  0,  0],\n",
              "        [ 1,  0,  0],\n",
              "        [ 1,  0,  1],\n",
              "        [12,  0,  1],\n",
              "        [12,  0,  1],\n",
              "        [12,  0,  1],\n",
              "        [12,  0,  1],\n",
              "        [12,  0,  1],\n",
              "        [ 1,  0,  0],\n",
              "        [12,  0,  1],\n",
              "        [ 1,  0,  0],\n",
              "        [12,  0,  1],\n",
              "        [ 1,  0,  0],\n",
              "        [12,  0,  1],\n",
              "        [ 1,  0,  0],\n",
              "        [12,  0,  1],\n",
              "        [12,  0,  1],\n",
              "        [12,  0,  1],\n",
              "        [12,  0,  1],\n",
              "        [ 1,  0,  0],\n",
              "        [ 1,  0,  0]])"
            ]
          },
          "metadata": {},
          "execution_count": 9
        }
      ],
      "source": [
        "data[1127].edge_attr"
      ]
    },
    {
      "cell_type": "markdown",
      "id": "b8170312",
      "metadata": {
        "id": "b8170312"
      },
      "source": [
        "We will perform predictions based on the graph level. This means we have one y-label for the whole graph.\n",
        "# Converting SMILES to RDKit molecules — Visualizing molecules\n",
        "We want to have our SMILES molecules as graphs…"
      ]
    },
    {
      "cell_type": "code",
      "execution_count": 10,
      "id": "fd3e8bd5",
      "metadata": {
        "colab": {
          "base_uri": "https://localhost:8080/",
          "height": 35
        },
        "id": "fd3e8bd5",
        "outputId": "77c656a2-0912-492e-f3e3-82eac57a2478"
      },
      "outputs": [
        {
          "output_type": "execute_result",
          "data": {
            "text/plain": [
              "'OCC3OC(OCC2OC(OC(C#N)c1ccccc1)C(O)C(O)C2O)C(O)C(O)C3O '"
            ],
            "application/vnd.google.colaboratory.intrinsic+json": {
              "type": "string"
            }
          },
          "metadata": {},
          "execution_count": 10
        }
      ],
      "source": [
        "data[0][\"smiles\"]"
      ]
    },
    {
      "cell_type": "code",
      "execution_count": 11,
      "id": "13863957",
      "metadata": {
        "colab": {
          "base_uri": "https://localhost:8080/",
          "height": 167
        },
        "id": "13863957",
        "outputId": "cfd7bef0-b468-4cbc-df68-c2acf3f52c18"
      },
      "outputs": [
        {
          "output_type": "execute_result",
          "data": {
            "text/plain": [
              "<rdkit.Chem.rdchem.Mol at 0x7f88ee8b5f50>"
            ],
            "image/png": "[encoded data removed]"
          },
          "metadata": {},
          "execution_count": 11
        }
      ],
      "source": [
        "molecule = Chem.MolFromSmiles(data[0][\"smiles\"])\n",
        "molecule"
      ]
    },
    {
      "cell_type": "code",
      "execution_count": 12,
      "id": "59015c79",
      "metadata": {
        "colab": {
          "base_uri": "https://localhost:8080/",
          "height": 737
        },
        "id": "59015c79",
        "outputId": "71f23c88-814f-4ef9-f07a-9391f9f377f1"
      },
      "outputs": [
        {
          "output_type": "display_data",
          "data": {
            "application/3dmoljs_load.v0": "<div id=\"3dmolviewer_17606779695681193\"  style=\"position: relative; width: 900px; height: 720px;\">\n        <p id=\"3dmolwarning_17606779695681193\" style=\"background-color:#ffcccc;color:black\">3Dmol.js failed to load for some reason.  Please check your browser console for error messages.<br></p>\n        </div>\n<script>\n\nvar loadScriptAsync = function(uri){\n  return new Promise((resolve, reject) => {\n    //this is to ignore the existence of requirejs amd\n    var savedexports, savedmodule;\n    if (typeof exports !== 'undefined') savedexports = exports;\n    else exports = {}\n    if (typeof module !== 'undefined') savedmodule = module;\n    else module = {}\n\n    var tag = document.createElement('script');\n    tag.src = uri;\n    tag.async = true;\n    tag.onload = () => {\n        exports = savedexports;\n        module = savedmodule;\n        resolve();\n    };\n  var firstScriptTag = document.getElementsByTagName('script')[0];\n  firstScriptTag.parentNode.insertBefore(tag, firstScriptTag);\n});\n};\n\nif(typeof $3Dmolpromise === 'undefined') {\n$3Dmolpromise = null;\n  $3Dmolpromise = loadScriptAsync('https://cdn.jsdelivr.net/npm/3dmol@2.5.3/build/3Dmol-min.js');\n}\n\nvar viewer_17606779695681193 = null;\nvar warn = document.getElementById(\"3dmolwarning_17606779695681193\");\nif(warn) {\n    warn.parentNode.removeChild(warn);\n}\n$3Dmolpromise.then(function() {\nviewer_17606779695681193 = $3Dmol.createViewer(document.getElementById(\"3dmolviewer_17606779695681193\"),{backgroundColor:\"white\"});\nviewer_17606779695681193.zoomTo();\n\tviewer_17606779695681193.addModel(\"\\n     RDKit          3D\\n\\n 59 61  0  0  0  0  0  0  0  0999 V2000\\n   -5.9611   -0.4247   -3.5431 O   0  0  0  0  0  0  0  0  0  0  0  0\\n   -6.4479   -0.1487   -2.2566 C   0  0  0  0  0  0  0  0  0  0  0  0\\n   -5.4595    0.7442   -1.4872 C   0  0  0  0  0  0  0  0  0  0  0  0\\n   -4.2198    0.0521   -1.3967 O   0  0  0  0  0  0  0  0  0  0  0  0\\n   -3.3073    0.7139   -0.5438 C   0  0  0  0  0  0  0  0  0  0  0  0\\n   -2.0474    0.0953   -0.7354 O   0  0  0  0  0  0  0  0  0  0  0  0\\n   -0.9852    0.8803   -0.2292 C   0  0  0  0  0  0  0  0  0  0  0  0\\n    0.3329    0.0926   -0.2931 C   0  0  0  0  0  0  0  0  0  0  0  0\\n    1.3371    0.8904    0.3169 O   0  0  0  0  0  0  0  0  0  0  0  0\\n    2.6182    0.2982    0.1889 C   0  0  0  0  0  0  0  0  0  0  0  0\\n    3.5731    1.1917    0.7460 O   0  0  0  0  0  0  0  0  0  0  0  0\\n    4.5844    1.5566   -0.1767 C   0  0  0  0  0  0  0  0  0  0  0  0\\n    5.3721    2.6451    0.4129 C   0  0  0  0  0  0  0  0  0  0  0  0\\n    6.0011    3.4871    0.8955 N   0  0  0  0  0  0  0  0  0  0  0  0\\n    5.5024    0.3874   -0.4741 C   0  0  0  0  0  0  0  0  0  0  0  0\\n    5.6421   -0.0864   -1.7909 C   0  0  0  0  0  0  0  0  0  0  0  0\\n    6.4876   -1.1660   -2.0667 C   0  0  0  0  0  0  0  0  0  0  0  0\\n    7.1965   -1.7849   -1.0330 C   0  0  0  0  0  0  0  0  0  0  0  0\\n    7.0584   -1.3270    0.2815 C   0  0  0  0  0  0  0  0  0  0  0  0\\n    6.2089   -0.2518    0.5626 C   0  0  0  0  0  0  0  0  0  0  0  0\\n    2.6798   -1.0205    0.9876 C   0  0  0  0  0  0  0  0  0  0  0  0\\n    2.5357   -0.7354    2.3563 O   0  0  0  0  0  0  0  0  0  0  0  0\\n    1.5710   -1.9935    0.5390 C   0  0  0  0  0  0  0  0  0  0  0  0\\n    1.9107   -2.6471   -0.6632 O   0  0  0  0  0  0  0  0  0  0  0  0\\n    0.2096   -1.2745    0.4422 C   0  0  0  0  0  0  0  0  0  0  0  0\\n   -0.7421   -2.1219   -0.1559 O   0  0  0  0  0  0  0  0  0  0  0  0\\n   -3.7833    0.5488    0.9345 C   0  0  0  0  0  0  0  0  0  0  0  0\\n   -3.3724    1.6342    1.7319 O   0  0  0  0  0  0  0  0  0  0  0  0\\n   -5.3178    0.3432    1.0198 C   0  0  0  0  0  0  0  0  0  0  0  0\\n   -5.8157    0.7153    2.2790 O   0  0  0  0  0  0  0  0  0  0  0  0\\n   -6.0440    1.1259   -0.0907 C   0  0  0  0  0  0  0  0  0  0  0  0\\n   -5.9035    2.5127    0.1001 O   0  0  0  0  0  0  0  0  0  0  0  0\\n   -5.3607   -1.2125   -3.4580 H   0  0  0  0  0  0  0  0  0  0  0  0\\n   -6.6307   -1.0930   -1.6931 H   0  0  0  0  0  0  0  0  0  0  0  0\\n   -7.4216    0.3771   -2.3620 H   0  0  0  0  0  0  0  0  0  0  0  0\\n   -5.3190    1.6674   -2.0988 H   0  0  0  0  0  0  0  0  0  0  0  0\\n   -3.2557    1.7958   -0.8298 H   0  0  0  0  0  0  0  0  0  0  0  0\\n   -1.1545    1.1677    0.8297 H   0  0  0  0  0  0  0  0  0  0  0  0\\n   -0.8708    1.8056   -0.8398 H   0  0  0  0  0  0  0  0  0  0  0  0\\n    0.5678   -0.0725   -1.3703 H   0  0  0  0  0  0  0  0  0  0  0  0\\n    2.8184    0.0834   -0.8896 H   0  0  0  0  0  0  0  0  0  0  0  0\\n    4.1355    1.9674   -1.1107 H   0  0  0  0  0  0  0  0  0  0  0  0\\n    5.1006    0.3831   -2.6016 H   0  0  0  0  0  0  0  0  0  0  0  0\\n    6.5943   -1.5145   -3.0849 H   0  0  0  0  0  0  0  0  0  0  0  0\\n    7.8636   -2.6091   -1.2471 H   0  0  0  0  0  0  0  0  0  0  0  0\\n    7.6057   -1.8051    1.0857 H   0  0  0  0  0  0  0  0  0  0  0  0\\n    6.1059    0.0863    1.5885 H   0  0  0  0  0  0  0  0  0  0  0  0\\n    3.6693   -1.4995    0.8086 H   0  0  0  0  0  0  0  0  0  0  0  0\\n    2.8900   -1.5189    2.8554 H   0  0  0  0  0  0  0  0  0  0  0  0\\n    1.4756   -2.7869    1.3113 H   0  0  0  0  0  0  0  0  0  0  0  0\\n    2.0763   -1.9636   -1.3618 H   0  0  0  0  0  0  0  0  0  0  0  0\\n   -0.1341   -1.0667    1.4800 H   0  0  0  0  0  0  0  0  0  0  0  0\\n   -0.5280   -2.1841   -1.1230 H   0  0  0  0  0  0  0  0  0  0  0  0\\n   -3.3126   -0.3671    1.3580 H   0  0  0  0  0  0  0  0  0  0  0  0\\n   -3.7433    2.4650    1.3377 H   0  0  0  0  0  0  0  0  0  0  0  0\\n   -5.5406   -0.7373    0.8549 H   0  0  0  0  0  0  0  0  0  0  0  0\\n   -5.4405    0.0698    2.9368 H   0  0  0  0  0  0  0  0  0  0  0  0\\n   -7.1309    0.8707   -0.0465 H   0  0  0  0  0  0  0  0  0  0  0  0\\n   -6.4747    2.7591    0.8754 H   0  0  0  0  0  0  0  0  0  0  0  0\\n  1  2  1  0\\n  2  3  1  0\\n  3  4  1  0\\n  4  5  1  0\\n  5  6  1  0\\n  6  7  1  0\\n  7  8  1  0\\n  8  9  1  0\\n  9 10  1  0\\n 10 11  1  0\\n 11 12  1  0\\n 12 13  1  0\\n 13 14  3  0\\n 12 15  1  0\\n 15 16  2  0\\n 16 17  1  0\\n 17 18  2  0\\n 18 19  1  0\\n 19 20  2  0\\n 10 21  1  0\\n 21 22  1  0\\n 21 23  1  0\\n 23 24  1  0\\n 23 25  1  0\\n 25 26  1  0\\n  5 27  1  0\\n 27 28  1  0\\n 27 29  1  0\\n 29 30  1  0\\n 29 31  1  0\\n 31 32  1  0\\n 20 15  1  0\\n 25  8  1  0\\n 31  3  1  0\\n  1 33  1  0\\n  2 34  1  0\\n  2 35  1  0\\n  3 36  1  0\\n  5 37  1  0\\n  7 38  1  0\\n  7 39  1  0\\n  8 40  1  0\\n 10 41  1  0\\n 12 42  1  0\\n 16 43  1  0\\n 17 44  1  0\\n 18 45  1  0\\n 19 46  1  0\\n 20 47  1  0\\n 21 48  1  0\\n 22 49  1  0\\n 23 50  1  0\\n 24 51  1  0\\n 25 52  1  0\\n 26 53  1  0\\n 27 54  1  0\\n 28 55  1  0\\n 29 56  1  0\\n 30 57  1  0\\n 31 58  1  0\\n 32 59  1  0\\nM  END\\n\",\"sdf\");\n\tviewer_17606779695681193.setStyle({\"stick\": {\"radius\": 0.2}, \"sphere\": {\"scale\": 0.35}});\n\tviewer_17606779695681193.setBackgroundColor(\"white\");\n\tviewer_17606779695681193.zoomTo();\nviewer_17606779695681193.render();\n});\n</script>",
            "text/html": [
              "<div id=\"3dmolviewer_17606779695681193\"  style=\"position: relative; width: 900px; height: 720px;\">\n",
              "        <p id=\"3dmolwarning_17606779695681193\" style=\"background-color:#ffcccc;color:black\">3Dmol.js failed to load for some reason.  Please check your browser console for error messages.<br></p>\n",
              "        </div>\n",
              "<script>\n",
              "\n",
              "var loadScriptAsync = function(uri){\n",
              "  return new Promise((resolve, reject) => {\n",
              "    //this is to ignore the existence of requirejs amd\n",
              "    var savedexports, savedmodule;\n",
              "    if (typeof exports !== 'undefined') savedexports = exports;\n",
              "    else exports = {}\n",
              "    if (typeof module !== 'undefined') savedmodule = module;\n",
              "    else module = {}\n",
              "\n",
              "    var tag = document.createElement('script');\n",
              "    tag.src = uri;\n",
              "    tag.async = true;\n",
              "    tag.onload = () => {\n",
              "        exports = savedexports;\n",
              "        module = savedmodule;\n",
              "        resolve();\n",
              "    };\n",
              "  var firstScriptTag = document.getElementsByTagName('script')[0];\n",
              "  firstScriptTag.parentNode.insertBefore(tag, firstScriptTag);\n",
              "});\n",
              "};\n",
              "\n",
              "if(typeof $3Dmolpromise === 'undefined') {\n",
              "$3Dmolpromise = null;\n",
              "  $3Dmolpromise = loadScriptAsync('https://cdn.jsdelivr.net/npm/3dmol@2.5.3/build/3Dmol-min.js');\n",
              "}\n",
              "\n",
              "var viewer_17606779695681193 = null;\n",
              "var warn = document.getElementById(\"3dmolwarning_17606779695681193\");\n",
              "if(warn) {\n",
              "    warn.parentNode.removeChild(warn);\n",
              "}\n",
              "$3Dmolpromise.then(function() {\n",
              "viewer_17606779695681193 = $3Dmol.createViewer(document.getElementById(\"3dmolviewer_17606779695681193\"),{backgroundColor:\"white\"});\n",
              "viewer_17606779695681193.zoomTo();\n",
              "\tviewer_17606779695681193.addModel(\"\\n     RDKit          3D\\n\\n 59 61  0  0  0  0  0  0  0  0999 V2000\\n   -5.9611   -0.4247   -3.5431 O   0  0  0  0  0  0  0  0  0  0  0  0\\n   -6.4479   -0.1487   -2.2566 C   0  0  0  0  0  0  0  0  0  0  0  0\\n   -5.4595    0.7442   -1.4872 C   0  0  0  0  0  0  0  0  0  0  0  0\\n   -4.2198    0.0521   -1.3967 O   0  0  0  0  0  0  0  0  0  0  0  0\\n   -3.3073    0.7139   -0.5438 C   0  0  0  0  0  0  0  0  0  0  0  0\\n   -2.0474    0.0953   -0.7354 O   0  0  0  0  0  0  0  0  0  0  0  0\\n   -0.9852    0.8803   -0.2292 C   0  0  0  0  0  0  0  0  0  0  0  0\\n    0.3329    0.0926   -0.2931 C   0  0  0  0  0  0  0  0  0  0  0  0\\n    1.3371    0.8904    0.3169 O   0  0  0  0  0  0  0  0  0  0  0  0\\n    2.6182    0.2982    0.1889 C   0  0  0  0  0  0  0  0  0  0  0  0\\n    3.5731    1.1917    0.7460 O   0  0  0  0  0  0  0  0  0  0  0  0\\n    4.5844    1.5566   -0.1767 C   0  0  0  0  0  0  0  0  0  0  0  0\\n    5.3721    2.6451    0.4129 C   0  0  0  0  0  0  0  0  0  0  0  0\\n    6.0011    3.4871    0.8955 N   0  0  0  0  0  0  0  0  0  0  0  0\\n    5.5024    0.3874   -0.4741 C   0  0  0  0  0  0  0  0  0  0  0  0\\n    5.6421   -0.0864   -1.7909 C   0  0  0  0  0  0  0  0  0  0  0  0\\n    6.4876   -1.1660   -2.0667 C   0  0  0  0  0  0  0  0  0  0  0  0\\n    7.1965   -1.7849   -1.0330 C   0  0  0  0  0  0  0  0  0  0  0  0\\n    7.0584   -1.3270    0.2815 C   0  0  0  0  0  0  0  0  0  0  0  0\\n    6.2089   -0.2518    0.5626 C   0  0  0  0  0  0  0  0  0  0  0  0\\n    2.6798   -1.0205    0.9876 C   0  0  0  0  0  0  0  0  0  0  0  0\\n    2.5357   -0.7354    2.3563 O   0  0  0  0  0  0  0  0  0  0  0  0\\n    1.5710   -1.9935    0.5390 C   0  0  0  0  0  0  0  0  0  0  0  0\\n    1.9107   -2.6471   -0.6632 O   0  0  0  0  0  0  0  0  0  0  0  0\\n    0.2096   -1.2745    0.4422 C   0  0  0  0  0  0  0  0  0  0  0  0\\n   -0.7421   -2.1219   -0.1559 O   0  0  0  0  0  0  0  0  0  0  0  0\\n   -3.7833    0.5488    0.9345 C   0  0  0  0  0  0  0  0  0  0  0  0\\n   -3.3724    1.6342    1.7319 O   0  0  0  0  0  0  0  0  0  0  0  0\\n   -5.3178    0.3432    1.0198 C   0  0  0  0  0  0  0  0  0  0  0  0\\n   -5.8157    0.7153    2.2790 O   0  0  0  0  0  0  0  0  0  0  0  0\\n   -6.0440    1.1259   -0.0907 C   0  0  0  0  0  0  0  0  0  0  0  0\\n   -5.9035    2.5127    0.1001 O   0  0  0  0  0  0  0  0  0  0  0  0\\n   -5.3607   -1.2125   -3.4580 H   0  0  0  0  0  0  0  0  0  0  0  0\\n   -6.6307   -1.0930   -1.6931 H   0  0  0  0  0  0  0  0  0  0  0  0\\n   -7.4216    0.3771   -2.3620 H   0  0  0  0  0  0  0  0  0  0  0  0\\n   -5.3190    1.6674   -2.0988 H   0  0  0  0  0  0  0  0  0  0  0  0\\n   -3.2557    1.7958   -0.8298 H   0  0  0  0  0  0  0  0  0  0  0  0\\n   -1.1545    1.1677    0.8297 H   0  0  0  0  0  0  0  0  0  0  0  0\\n   -0.8708    1.8056   -0.8398 H   0  0  0  0  0  0  0  0  0  0  0  0\\n    0.5678   -0.0725   -1.3703 H   0  0  0  0  0  0  0  0  0  0  0  0\\n    2.8184    0.0834   -0.8896 H   0  0  0  0  0  0  0  0  0  0  0  0\\n    4.1355    1.9674   -1.1107 H   0  0  0  0  0  0  0  0  0  0  0  0\\n    5.1006    0.3831   -2.6016 H   0  0  0  0  0  0  0  0  0  0  0  0\\n    6.5943   -1.5145   -3.0849 H   0  0  0  0  0  0  0  0  0  0  0  0\\n    7.8636   -2.6091   -1.2471 H   0  0  0  0  0  0  0  0  0  0  0  0\\n    7.6057   -1.8051    1.0857 H   0  0  0  0  0  0  0  0  0  0  0  0\\n    6.1059    0.0863    1.5885 H   0  0  0  0  0  0  0  0  0  0  0  0\\n    3.6693   -1.4995    0.8086 H   0  0  0  0  0  0  0  0  0  0  0  0\\n    2.8900   -1.5189    2.8554 H   0  0  0  0  0  0  0  0  0  0  0  0\\n    1.4756   -2.7869    1.3113 H   0  0  0  0  0  0  0  0  0  0  0  0\\n    2.0763   -1.9636   -1.3618 H   0  0  0  0  0  0  0  0  0  0  0  0\\n   -0.1341   -1.0667    1.4800 H   0  0  0  0  0  0  0  0  0  0  0  0\\n   -0.5280   -2.1841   -1.1230 H   0  0  0  0  0  0  0  0  0  0  0  0\\n   -3.3126   -0.3671    1.3580 H   0  0  0  0  0  0  0  0  0  0  0  0\\n   -3.7433    2.4650    1.3377 H   0  0  0  0  0  0  0  0  0  0  0  0\\n   -5.5406   -0.7373    0.8549 H   0  0  0  0  0  0  0  0  0  0  0  0\\n   -5.4405    0.0698    2.9368 H   0  0  0  0  0  0  0  0  0  0  0  0\\n   -7.1309    0.8707   -0.0465 H   0  0  0  0  0  0  0  0  0  0  0  0\\n   -6.4747    2.7591    0.8754 H   0  0  0  0  0  0  0  0  0  0  0  0\\n  1  2  1  0\\n  2  3  1  0\\n  3  4  1  0\\n  4  5  1  0\\n  5  6  1  0\\n  6  7  1  0\\n  7  8  1  0\\n  8  9  1  0\\n  9 10  1  0\\n 10 11  1  0\\n 11 12  1  0\\n 12 13  1  0\\n 13 14  3  0\\n 12 15  1  0\\n 15 16  2  0\\n 16 17  1  0\\n 17 18  2  0\\n 18 19  1  0\\n 19 20  2  0\\n 10 21  1  0\\n 21 22  1  0\\n 21 23  1  0\\n 23 24  1  0\\n 23 25  1  0\\n 25 26  1  0\\n  5 27  1  0\\n 27 28  1  0\\n 27 29  1  0\\n 29 30  1  0\\n 29 31  1  0\\n 31 32  1  0\\n 20 15  1  0\\n 25  8  1  0\\n 31  3  1  0\\n  1 33  1  0\\n  2 34  1  0\\n  2 35  1  0\\n  3 36  1  0\\n  5 37  1  0\\n  7 38  1  0\\n  7 39  1  0\\n  8 40  1  0\\n 10 41  1  0\\n 12 42  1  0\\n 16 43  1  0\\n 17 44  1  0\\n 18 45  1  0\\n 19 46  1  0\\n 20 47  1  0\\n 21 48  1  0\\n 22 49  1  0\\n 23 50  1  0\\n 24 51  1  0\\n 25 52  1  0\\n 26 53  1  0\\n 27 54  1  0\\n 28 55  1  0\\n 29 56  1  0\\n 30 57  1  0\\n 31 58  1  0\\n 32 59  1  0\\nM  END\\n\",\"sdf\");\n",
              "\tviewer_17606779695681193.setStyle({\"stick\": {\"radius\": 0.2}, \"sphere\": {\"scale\": 0.35}});\n",
              "\tviewer_17606779695681193.setBackgroundColor(\"white\");\n",
              "\tviewer_17606779695681193.zoomTo();\n",
              "viewer_17606779695681193.render();\n",
              "});\n",
              "</script>"
            ]
          },
          "metadata": {}
        }
      ],
      "source": [
        "# Code to visualize ball and stick model of molecules\n",
        "mol3d = Chem.AddHs(molecule)\n",
        "AllChem.EmbedMolecule(mol3d, AllChem.ETKDGv3())\n",
        "AllChem.UFFOptimizeMolecule(mol3d)\n",
        "mb = Chem.MolToMolBlock(mol3d)\n",
        "\n",
        "view = py3Dmol.view(width=900, height=720)\n",
        "view.addModel(mb, 'sdf')\n",
        "view.setStyle({'stick': {'radius': 0.2}, 'sphere': {'scale': 0.35}})\n",
        "view.setBackgroundColor('white')\n",
        "view.zoomTo()\n",
        "view.show()"
      ]
    },
    {
      "cell_type": "markdown",
      "id": "4fb882e9",
      "metadata": {
        "id": "4fb882e9"
      },
      "source": [
        "We have seen how to visualize our SMILE string into original molecule\n",
        "\n",
        "How to use RDkit to extract features from the molecule\n",
        "\n",
        "It provides all the information we require, such as edges, atom properties (type,…), etc.\n",
        "Nevertheless, in our instance, it’s even simpler because the dataset already contains the information that’s been expressly provided.\n",
        "Instead, we would use those atom attributes to calculate the node features.\n",
        "\n",
        "# Implementation of Graph Neural Network\n",
        "The process for creating a Graph Neural Network is very similar to that of a Convolutional Neural Network; we simply add more layers.\n",
        "\n",
        "The GCN simply extends torch.nn.Module. GCNConv expects:\n",
        "\n",
        "in_channels = Size of each input sample.\n",
        "out_channels = Size of each output sample.\n",
        "We use three convolutional layers, which means that we gain knowledge of three neighbor hops. In order to do graph-level prediction, we then apply a pooling layer to mix the data from the individual nodes.\n",
        "\n",
        "We will use pytorch and pytorch geometric for our task\n",
        "\n"
      ]
    },
    {
      "cell_type": "code",
      "execution_count": 13,
      "id": "1ab53a04",
      "metadata": {
        "colab": {
          "base_uri": "https://localhost:8080/"
        },
        "id": "1ab53a04",
        "outputId": "ca4fc002-0df8-460c-eb33-a3161b98eae8"
      },
      "outputs": [
        {
          "output_type": "stream",
          "name": "stdout",
          "text": [
            "GCN(\n",
            "  (initial_conv): GCNConv(9, 64)\n",
            "  (conv1): GCNConv(64, 64)\n",
            "  (conv2): GCNConv(64, 64)\n",
            "  (conv3): GCNConv(64, 64)\n",
            "  (out): Linear(in_features=128, out_features=1, bias=True)\n",
            ")\n",
            "Number of parameters:  13249\n"
          ]
        }
      ],
      "source": [
        "embedding_size = 64\n",
        "\n",
        "class GCN(torch.nn.Module):\n",
        "    def __init__(self):\n",
        "        # Init parent\n",
        "        super(GCN, self).__init__()\n",
        "        torch.manual_seed(42)\n",
        "\n",
        "        # GCN layers\n",
        "        self.initial_conv = GCNConv(data.num_features, embedding_size)\n",
        "        self.conv1 = GCNConv(embedding_size, embedding_size)\n",
        "        self.conv2 = GCNConv(embedding_size, embedding_size)\n",
        "        self.conv3 = GCNConv(embedding_size, embedding_size)\n",
        "\n",
        "        # Output layer\n",
        "        self.out = Linear(embedding_size*2, 1)\n",
        "\n",
        "    def forward(self, x, edge_index, batch_index):\n",
        "        # First Conv layer\n",
        "        hidden = self.initial_conv(x, edge_index)\n",
        "        hidden = F.tanh(hidden)\n",
        "\n",
        "        # Other Conv layers\n",
        "        hidden = self.conv1(hidden, edge_index)\n",
        "        hidden = F.tanh(hidden)\n",
        "        hidden = self.conv2(hidden, edge_index)\n",
        "        hidden = F.tanh(hidden)\n",
        "        hidden = self.conv3(hidden, edge_index)\n",
        "        hidden = F.tanh(hidden)\n",
        "\n",
        "        # Global Pooling (stack different aggregations)\n",
        "        hidden = torch.cat([gmp(hidden, batch_index),\n",
        "                            gap(hidden, batch_index)], dim=1)\n",
        "\n",
        "        # Apply a final (linear) classifier.\n",
        "        out = self.out(hidden)\n",
        "\n",
        "        return out, hidden\n",
        "\n",
        "model = GCN()\n",
        "print(model)\n",
        "print(\"Number of parameters: \", sum(p.numel() for p in model.parameters()))"
      ]
    },
    {
      "cell_type": "code",
      "execution_count": 28,
      "id": "6db51e9f",
      "metadata": {
        "colab": {
          "base_uri": "https://localhost:8080/"
        },
        "id": "6db51e9f",
        "outputId": "d205572f-5785-422f-8c54-93204c3e985a"
      },
      "outputs": [
        {
          "output_type": "stream",
          "name": "stdout",
          "text": [
            "Layer initial_conv.bias has shape of torch.Size([64]) and 64 number of elements\n",
            "=========================================================================\n",
            "Layer initial_conv.lin.weight has shape of torch.Size([64, 9]) and 576 number of elements\n",
            "=========================================================================\n",
            "Layer conv1.bias has shape of torch.Size([64]) and 64 number of elements\n",
            "=========================================================================\n",
            "Layer conv1.lin.weight has shape of torch.Size([64, 64]) and 4096 number of elements\n",
            "=========================================================================\n",
            "Layer conv2.bias has shape of torch.Size([64]) and 64 number of elements\n",
            "=========================================================================\n",
            "Layer conv2.lin.weight has shape of torch.Size([64, 64]) and 4096 number of elements\n",
            "=========================================================================\n",
            "Layer conv3.bias has shape of torch.Size([64]) and 64 number of elements\n",
            "=========================================================================\n",
            "Layer conv3.lin.weight has shape of torch.Size([64, 64]) and 4096 number of elements\n",
            "=========================================================================\n",
            "Layer out.weight has shape of torch.Size([1, 128]) and 128 number of elements\n",
            "=========================================================================\n",
            "Layer out.bias has shape of torch.Size([1]) and 1 number of elements\n",
            "=========================================================================\n"
          ]
        }
      ],
      "source": [
        "# Modifying above code to use a for loop to display the shape and number of elements in the model parameter of each layer of the model.\n",
        "\n",
        "for name, p in model.named_parameters():\n",
        "  print(f\"Layer {name} has shape of {p.shape} and {p.numel()} number of elements\")\n",
        "  print(\"=========================================================================\")"
      ]
    },
    {
      "cell_type": "markdown",
      "id": "0894beb7",
      "metadata": {
        "id": "0894beb7"
      },
      "source": [
        "Since we have huge molecules, we use 64 embeddings rather than the option to minimize them.\n",
        "We gain more knowledge about the graph as we add more levels.\n",
        "We utilize a linear layer as the final output layer for the regression problem.\n",
        "Although we only have about 1,000 samples, we strive to use as few parameters as possible.\n",
        "# Training of GNN\n"
      ]
    },
    {
      "cell_type": "code",
      "execution_count": 29,
      "id": "66aba133",
      "metadata": {
        "colab": {
          "base_uri": "https://localhost:8080/"
        },
        "id": "66aba133",
        "outputId": "5e5685b0-9ce4-4fed-d622-25f558919f2c"
      },
      "outputs": [
        {
          "output_type": "stream",
          "name": "stdout",
          "text": [
            "Starting training...\n",
            "Epoch 0 | Train Loss 11.665947914123535\n",
            "Epoch 100 | Train Loss 0.8504207730293274\n",
            "Epoch 200 | Train Loss 1.1154390573501587\n",
            "Epoch 300 | Train Loss 0.32911959290504456\n",
            "Epoch 400 | Train Loss 0.23744039237499237\n",
            "Epoch 500 | Train Loss 0.38848552107810974\n",
            "Epoch 600 | Train Loss 0.22591347992420197\n",
            "Epoch 700 | Train Loss 0.06603380292654037\n",
            "Epoch 800 | Train Loss 0.161929190158844\n",
            "Epoch 900 | Train Loss 0.1568988561630249\n",
            "Epoch 1000 | Train Loss 0.046887725591659546\n",
            "Epoch 1100 | Train Loss 0.03903582692146301\n",
            "Epoch 1200 | Train Loss 0.15991733968257904\n",
            "Epoch 1300 | Train Loss 0.08483908325433731\n",
            "Epoch 1400 | Train Loss 0.04848349094390869\n",
            "Epoch 1500 | Train Loss 0.018160203471779823\n",
            "Epoch 1600 | Train Loss 0.02361152321100235\n",
            "Epoch 1700 | Train Loss 0.02528112567961216\n",
            "Epoch 1800 | Train Loss 0.04550778865814209\n",
            "Epoch 1900 | Train Loss 0.05733415484428406\n"
          ]
        }
      ],
      "source": [
        "\n",
        "warnings.filterwarnings(\"ignore\")\n",
        "\n",
        "# Root mean squared error\n",
        "loss_fn = torch.nn.MSELoss()\n",
        "optimizer = torch.optim.Adam(model.parameters(), lr=0.0007)\n",
        "\n",
        "# Use GPU for training\n",
        "device = torch.device(\"cuda:0\" if torch.cuda.is_available() else \"cpu\")\n",
        "model = model.to(device)\n",
        "\n",
        "# Wrap data in a data loader\n",
        "data_size = len(data)\n",
        "NUM_GRAPHS_PER_BATCH = 64\n",
        "loader = DataLoader(data[:int(data_size * 0.8)],\n",
        "                    batch_size=NUM_GRAPHS_PER_BATCH, shuffle=True)\n",
        "test_loader = DataLoader(data[int(data_size * 0.8):],\n",
        "                         batch_size=NUM_GRAPHS_PER_BATCH, shuffle=True)\n",
        "\n",
        "def train(data):\n",
        "    # Enumerate over the data\n",
        "    for batch in loader:\n",
        "      # Use GPU\n",
        "      batch.to(device)\n",
        "      # Reset gradients\n",
        "      optimizer.zero_grad()\n",
        "      # Passing the node features and the connection info\n",
        "      pred, embedding = model(batch.x.float(), batch.edge_index, batch.batch)\n",
        "      # Calculating the loss and gradients\n",
        "      loss = loss_fn(pred, batch.y)\n",
        "      loss.backward()\n",
        "      # Update using the gradients\n",
        "      optimizer.step()\n",
        "    return loss, embedding\n",
        "\n",
        "print(\"Starting training...\")\n",
        "losses = []\n",
        "for epoch in range(2000):\n",
        "    loss, h = train(data)\n",
        "    losses.append(loss)\n",
        "    if epoch % 100 == 0:\n",
        "      print(f\"Epoch {epoch} | Train Loss {loss}\")"
      ]
    },
    {
      "cell_type": "code",
      "execution_count": 33,
      "id": "43a90ae6",
      "metadata": {
        "colab": {
          "base_uri": "https://localhost:8080/"
        },
        "id": "43a90ae6",
        "outputId": "6675458d-1173-44fb-e346-fca91efc2b36"
      },
      "outputs": [
        {
          "output_type": "execute_result",
          "data": {
            "text/plain": [
              "1999"
            ]
          },
          "metadata": {},
          "execution_count": 33
        }
      ],
      "source": [
        "epoch"
      ]
    },
    {
      "cell_type": "markdown",
      "id": "c71856d2",
      "metadata": {
        "id": "c71856d2"
      },
      "source": [
        "# Visualize Training loss"
      ]
    },
    {
      "cell_type": "code",
      "execution_count": 34,
      "id": "68991a34",
      "metadata": {
        "colab": {
          "base_uri": "https://localhost:8080/",
          "height": 466
        },
        "id": "68991a34",
        "outputId": "3c8eb3de-7a33-48c6-c290-82e62ada3a7a"
      },
      "outputs": [
        {
          "output_type": "execute_result",
          "data": {
            "text/plain": [
              "<Axes: xlabel='epoch', ylabel='loss'>"
            ]
          },
          "metadata": {},
          "execution_count": 34
        },
        {
          "output_type": "display_data",
          "data": {
            "text/plain": [
              "<Figure size 640x480 with 1 Axes>"
            ],
            "image/png": "[encoded data removed]"
          },
          "metadata": {}
        }
      ],
      "source": [
        "# Visualize learning (training loss)\n",
        "\n",
        "losses_float = [float(loss.cpu().detach().numpy()) for loss in losses]\n",
        "loss_indices = [i for i,l in enumerate(losses_float)]\n",
        "loss_pd = pd.DataFrame({\"epoch\": loss_indices, \"loss\": losses_float})\n",
        "plt = sns.lineplot(data=loss_pd, x=\"epoch\", y=\"loss\")\n",
        "plt"
      ]
    },
    {
      "cell_type": "markdown",
      "id": "4461275a",
      "metadata": {
        "id": "4461275a"
      },
      "source": [
        "# Prediction of Test Data"
      ]
    },
    {
      "cell_type": "code",
      "execution_count": 35,
      "id": "86d27f77",
      "metadata": {
        "colab": {
          "base_uri": "https://localhost:8080/",
          "height": 419
        },
        "id": "86d27f77",
        "outputId": "8bfcd1e8-5c6b-41ae-8eac-d6a1a16c9c61"
      },
      "outputs": [
        {
          "output_type": "execute_result",
          "data": {
            "text/plain": [
              "    y_real    y_pred\n",
              "0   -2.570 -2.147978\n",
              "1   -1.470 -0.955594\n",
              "2   -5.410 -3.088553\n",
              "3    0.610 -0.483306\n",
              "4   -5.230 -3.953741\n",
              "..     ...       ...\n",
              "59  -1.920 -1.951882\n",
              "60  -4.230 -3.656125\n",
              "61  -4.554 -3.402268\n",
              "62  -1.960 -1.341877\n",
              "63  -3.590 -3.384327\n",
              "\n",
              "[64 rows x 2 columns]"
            ],
            "text/html": [
              "\n",
              "  <div id=\"df-b4694eb2-148d-4c3c-ac66-0f94e9bae635\" class=\"colab-df-container\">\n",
              "    <div>\n",
              "<style scoped>\n",
              "    .dataframe tbody tr th:only-of-type {\n",
              "        vertical-align: middle;\n",
              "    }\n",
              "\n",
              "    .dataframe tbody tr th {\n",
              "        vertical-align: top;\n",
              "    }\n",
              "\n",
              "    .dataframe thead th {\n",
              "        text-align: right;\n",
              "    }\n",
              "</style>\n",
              "<table border=\"1\" class=\"dataframe\">\n",
              "  <thead>\n",
              "    <tr style=\"text-align: right;\">\n",
              "      <th></th>\n",
              "      <th>y_real</th>\n",
              "      <th>y_pred</th>\n",
              "    </tr>\n",
              "  </thead>\n",
              "  <tbody>\n",
              "    <tr>\n",
              "      <th>0</th>\n",
              "      <td>-2.570</td>\n",
              "      <td>-2.147978</td>\n",
              "    </tr>\n",
              "    <tr>\n",
              "      <th>1</th>\n",
              "      <td>-1.470</td>\n",
              "      <td>-0.955594</td>\n",
              "    </tr>\n",
              "    <tr>\n",
              "      <th>2</th>\n",
              "      <td>-5.410</td>\n",
              "      <td>-3.088553</td>\n",
              "    </tr>\n",
              "    <tr>\n",
              "      <th>3</th>\n",
              "      <td>0.610</td>\n",
              "      <td>-0.483306</td>\n",
              "    </tr>\n",
              "    <tr>\n",
              "      <th>4</th>\n",
              "      <td>-5.230</td>\n",
              "      <td>-3.953741</td>\n",
              "    </tr>\n",
              "    <tr>\n",
              "      <th>...</th>\n",
              "      <td>...</td>\n",
              "      <td>...</td>\n",
              "    </tr>\n",
              "    <tr>\n",
              "      <th>59</th>\n",
              "      <td>-1.920</td>\n",
              "      <td>-1.951882</td>\n",
              "    </tr>\n",
              "    <tr>\n",
              "      <th>60</th>\n",
              "      <td>-4.230</td>\n",
              "      <td>-3.656125</td>\n",
              "    </tr>\n",
              "    <tr>\n",
              "      <th>61</th>\n",
              "      <td>-4.554</td>\n",
              "      <td>-3.402268</td>\n",
              "    </tr>\n",
              "    <tr>\n",
              "      <th>62</th>\n",
              "      <td>-1.960</td>\n",
              "      <td>-1.341877</td>\n",
              "    </tr>\n",
              "    <tr>\n",
              "      <th>63</th>\n",
              "      <td>-3.590</td>\n",
              "      <td>-3.384327</td>\n",
              "    </tr>\n",
              "  </tbody>\n",
              "</table>\n",
              "<p>64 rows × 2 columns</p>\n",
              "</div>\n",
              "    <div class=\"colab-df-buttons\">\n",
              "\n",
              "  <div class=\"colab-df-container\">\n",
              "    <button class=\"colab-df-convert\" onclick=\"convertToInteractive('df-b4694eb2-148d-4c3c-ac66-0f94e9bae635')\"\n",
              "            title=\"Convert this dataframe to an interactive table.\"\n",
              "            style=\"display:none;\">\n",
              "\n",
              "  <svg xmlns=\"http://www.w3.org/2000/svg\" height=\"24px\" viewBox=\"0 -960 960 960\">\n",
              "    <path d=\"M120-120v-720h720v720H120Zm60-500h600v-160H180v160Zm220 220h160v-160H400v160Zm0 220h160v-160H400v160ZM180-400h160v-160H180v160Zm440 0h160v-160H620v160ZM180-180h160v-160H180v160Zm440 0h160v-160H620v160Z\"/>\n",
              "  </svg>\n",
              "    </button>\n",
              "\n",
              "  <style>\n",
              "    .colab-df-container {\n",
              "      display:flex;\n",
              "      gap: 12px;\n",
              "    }\n",
              "\n",
              "    .colab-df-convert {\n",
              "      background-color: #E8F0FE;\n",
              "      border: none;\n",
              "      border-radius: 50%;\n",
              "      cursor: pointer;\n",
              "      display: none;\n",
              "      fill: #1967D2;\n",
              "      height: 32px;\n",
              "      padding: 0 0 0 0;\n",
              "      width: 32px;\n",
              "    }\n",
              "\n",
              "    .colab-df-convert:hover {\n",
              "      background-color: #E2EBFA;\n",
              "      box-shadow: 0px 1px 2px rgba(60, 64, 67, 0.3), 0px 1px 3px 1px rgba(60, 64, 67, 0.15);\n",
              "      fill: #174EA6;\n",
              "    }\n",
              "\n",
              "    .colab-df-buttons div {\n",
              "      margin-bottom: 4px;\n",
              "    }\n",
              "\n",
              "    [theme=dark] .colab-df-convert {\n",
              "      background-color: #3B4455;\n",
              "      fill: #D2E3FC;\n",
              "    }\n",
              "\n",
              "    [theme=dark] .colab-df-convert:hover {\n",
              "      background-color: #434B5C;\n",
              "      box-shadow: 0px 1px 3px 1px rgba(0, 0, 0, 0.15);\n",
              "      filter: drop-shadow(0px 1px 2px rgba(0, 0, 0, 0.3));\n",
              "      fill: #FFFFFF;\n",
              "    }\n",
              "  </style>\n",
              "\n",
              "    <script>\n",
              "      const buttonEl =\n",
              "        document.querySelector('#df-b4694eb2-148d-4c3c-ac66-0f94e9bae635 button.colab-df-convert');\n",
              "      buttonEl.style.display =\n",
              "        google.colab.kernel.accessAllowed ? 'block' : 'none';\n",
              "\n",
              "      async function convertToInteractive(key) {\n",
              "        const element = document.querySelector('#df-b4694eb2-148d-4c3c-ac66-0f94e9bae635');\n",
              "        const dataTable =\n",
              "          await google.colab.kernel.invokeFunction('convertToInteractive',\n",
              "                                                    [key], {});\n",
              "        if (!dataTable) return;\n",
              "\n",
              "        const docLinkHtml = 'Like what you see? Visit the ' +\n",
              "          '<a target=\"_blank\" href=https://colab.research.google.com/notebooks/data_table.ipynb>data table notebook</a>'\n",
              "          + ' to learn more about interactive tables.';\n",
              "        element.innerHTML = '';\n",
              "        dataTable['output_type'] = 'display_data';\n",
              "        await google.colab.output.renderOutput(dataTable, element);\n",
              "        const docLink = document.createElement('div');\n",
              "        docLink.innerHTML = docLinkHtml;\n",
              "        element.appendChild(docLink);\n",
              "      }\n",
              "    </script>\n",
              "  </div>\n",
              "\n",
              "\n",
              "    <div id=\"df-27d0c49c-c941-4dec-a6d6-5b5580a0a036\">\n",
              "      <button class=\"colab-df-quickchart\" onclick=\"quickchart('df-27d0c49c-c941-4dec-a6d6-5b5580a0a036')\"\n",
              "                title=\"Suggest charts\"\n",
              "                style=\"display:none;\">\n",
              "\n",
              "<svg xmlns=\"http://www.w3.org/2000/svg\" height=\"24px\"viewBox=\"0 0 24 24\"\n",
              "     width=\"24px\">\n",
              "    <g>\n",
              "        <path d=\"M19 3H5c-1.1 0-2 .9-2 2v14c0 1.1.9 2 2 2h14c1.1 0 2-.9 2-2V5c0-1.1-.9-2-2-2zM9 17H7v-7h2v7zm4 0h-2V7h2v10zm4 0h-2v-4h2v4z\"/>\n",
              "    </g>\n",
              "</svg>\n",
              "      </button>\n",
              "\n",
              "<style>\n",
              "  .colab-df-quickchart {\n",
              "      --bg-color: #E8F0FE;\n",
              "      --fill-color: #1967D2;\n",
              "      --hover-bg-color: #E2EBFA;\n",
              "      --hover-fill-color: #174EA6;\n",
              "      --disabled-fill-color: #AAA;\n",
              "      --disabled-bg-color: #DDD;\n",
              "  }\n",
              "\n",
              "  [theme=dark] .colab-df-quickchart {\n",
              "      --bg-color: #3B4455;\n",
              "      --fill-color: #D2E3FC;\n",
              "      --hover-bg-color: #434B5C;\n",
              "      --hover-fill-color: #FFFFFF;\n",
              "      --disabled-bg-color: #3B4455;\n",
              "      --disabled-fill-color: #666;\n",
              "  }\n",
              "\n",
              "  .colab-df-quickchart {\n",
              "    background-color: var(--bg-color);\n",
              "    border: none;\n",
              "    border-radius: 50%;\n",
              "    cursor: pointer;\n",
              "    display: none;\n",
              "    fill: var(--fill-color);\n",
              "    height: 32px;\n",
              "    padding: 0;\n",
              "    width: 32px;\n",
              "  }\n",
              "\n",
              "  .colab-df-quickchart:hover {\n",
              "    background-color: var(--hover-bg-color);\n",
              "    box-shadow: 0 1px 2px rgba(60, 64, 67, 0.3), 0 1px 3px 1px rgba(60, 64, 67, 0.15);\n",
              "    fill: var(--button-hover-fill-color);\n",
              "  }\n",
              "\n",
              "  .colab-df-quickchart-complete:disabled,\n",
              "  .colab-df-quickchart-complete:disabled:hover {\n",
              "    background-color: var(--disabled-bg-color);\n",
              "    fill: var(--disabled-fill-color);\n",
              "    box-shadow: none;\n",
              "  }\n",
              "\n",
              "  .colab-df-spinner {\n",
              "    border: 2px solid var(--fill-color);\n",
              "    border-color: transparent;\n",
              "    border-bottom-color: var(--fill-color);\n",
              "    animation:\n",
              "      spin 1s steps(1) infinite;\n",
              "  }\n",
              "\n",
              "  @keyframes spin {\n",
              "    0% {\n",
              "      border-color: transparent;\n",
              "      border-bottom-color: var(--fill-color);\n",
              "      border-left-color: var(--fill-color);\n",
              "    }\n",
              "    20% {\n",
              "      border-color: transparent;\n",
              "      border-left-color: var(--fill-color);\n",
              "      border-top-color: var(--fill-color);\n",
              "    }\n",
              "    30% {\n",
              "      border-color: transparent;\n",
              "      border-left-color: var(--fill-color);\n",
              "      border-top-color: var(--fill-color);\n",
              "      border-right-color: var(--fill-color);\n",
              "    }\n",
              "    40% {\n",
              "      border-color: transparent;\n",
              "      border-right-color: var(--fill-color);\n",
              "      border-top-color: var(--fill-color);\n",
              "    }\n",
              "    60% {\n",
              "      border-color: transparent;\n",
              "      border-right-color: var(--fill-color);\n",
              "    }\n",
              "    80% {\n",
              "      border-color: transparent;\n",
              "      border-right-color: var(--fill-color);\n",
              "      border-bottom-color: var(--fill-color);\n",
              "    }\n",
              "    90% {\n",
              "      border-color: transparent;\n",
              "      border-bottom-color: var(--fill-color);\n",
              "    }\n",
              "  }\n",
              "</style>\n",
              "\n",
              "      <script>\n",
              "        async function quickchart(key) {\n",
              "          const quickchartButtonEl =\n",
              "            document.querySelector('#' + key + ' button');\n",
              "          quickchartButtonEl.disabled = true;  // To prevent multiple clicks.\n",
              "          quickchartButtonEl.classList.add('colab-df-spinner');\n",
              "          try {\n",
              "            const charts = await google.colab.kernel.invokeFunction(\n",
              "                'suggestCharts', [key], {});\n",
              "          } catch (error) {\n",
              "            console.error('Error during call to suggestCharts:', error);\n",
              "          }\n",
              "          quickchartButtonEl.classList.remove('colab-df-spinner');\n",
              "          quickchartButtonEl.classList.add('colab-df-quickchart-complete');\n",
              "        }\n",
              "        (() => {\n",
              "          let quickchartButtonEl =\n",
              "            document.querySelector('#df-27d0c49c-c941-4dec-a6d6-5b5580a0a036 button');\n",
              "          quickchartButtonEl.style.display =\n",
              "            google.colab.kernel.accessAllowed ? 'block' : 'none';\n",
              "        })();\n",
              "      </script>\n",
              "    </div>\n",
              "\n",
              "  <div id=\"id_719aa055-a7c1-43b2-ac09-0fe7a28108be\">\n",
              "    <style>\n",
              "      .colab-df-generate {\n",
              "        background-color: #E8F0FE;\n",
              "        border: none;\n",
              "        border-radius: 50%;\n",
              "        cursor: pointer;\n",
              "        display: none;\n",
              "        fill: #1967D2;\n",
              "        height: 32px;\n",
              "        padding: 0 0 0 0;\n",
              "        width: 32px;\n",
              "      }\n",
              "\n",
              "      .colab-df-generate:hover {\n",
              "        background-color: #E2EBFA;\n",
              "        box-shadow: 0px 1px 2px rgba(60, 64, 67, 0.3), 0px 1px 3px 1px rgba(60, 64, 67, 0.15);\n",
              "        fill: #174EA6;\n",
              "      }\n",
              "\n",
              "      [theme=dark] .colab-df-generate {\n",
              "        background-color: #3B4455;\n",
              "        fill: #D2E3FC;\n",
              "      }\n",
              "\n",
              "      [theme=dark] .colab-df-generate:hover {\n",
              "        background-color: #434B5C;\n",
              "        box-shadow: 0px 1px 3px 1px rgba(0, 0, 0, 0.15);\n",
              "        filter: drop-shadow(0px 1px 2px rgba(0, 0, 0, 0.3));\n",
              "        fill: #FFFFFF;\n",
              "      }\n",
              "    </style>\n",
              "    <button class=\"colab-df-generate\" onclick=\"generateWithVariable('df')\"\n",
              "            title=\"Generate code using this dataframe.\"\n",
              "            style=\"display:none;\">\n",
              "\n",
              "  <svg xmlns=\"http://www.w3.org/2000/svg\" height=\"24px\"viewBox=\"0 0 24 24\"\n",
              "       width=\"24px\">\n",
              "    <path d=\"M7,19H8.4L18.45,9,17,7.55,7,17.6ZM5,21V16.75L18.45,3.32a2,2,0,0,1,2.83,0l1.4,1.43a1.91,1.91,0,0,1,.58,1.4,1.91,1.91,0,0,1-.58,1.4L9.25,21ZM18.45,9,17,7.55Zm-12,3A5.31,5.31,0,0,0,4.9,8.1,5.31,5.31,0,0,0,1,6.5,5.31,5.31,0,0,0,4.9,4.9,5.31,5.31,0,0,0,6.5,1,5.31,5.31,0,0,0,8.1,4.9,5.31,5.31,0,0,0,12,6.5,5.46,5.46,0,0,0,6.5,12Z\"/>\n",
              "  </svg>\n",
              "    </button>\n",
              "    <script>\n",
              "      (() => {\n",
              "      const buttonEl =\n",
              "        document.querySelector('#id_719aa055-a7c1-43b2-ac09-0fe7a28108be button.colab-df-generate');\n",
              "      buttonEl.style.display =\n",
              "        google.colab.kernel.accessAllowed ? 'block' : 'none';\n",
              "\n",
              "      buttonEl.onclick = () => {\n",
              "        google.colab.notebook.generateWithVariable('df');\n",
              "      }\n",
              "      })();\n",
              "    </script>\n",
              "  </div>\n",
              "\n",
              "    </div>\n",
              "  </div>\n"
            ],
            "application/vnd.google.colaboratory.intrinsic+json": {
              "type": "dataframe",
              "variable_name": "df",
              "summary": "{\n  \"name\": \"df\",\n  \"rows\": 64,\n  \"fields\": [\n    {\n      \"column\": \"y_real\",\n      \"properties\": {\n        \"dtype\": \"number\",\n        \"std\": 2.1125770873082073,\n        \"min\": -8.5600004196167,\n        \"max\": 1.1440000534057617,\n        \"num_unique_values\": 63,\n        \"samples\": [\n          -1.9600000381469727,\n          -1.7419999837875366,\n          -2.569999933242798\n        ],\n        \"semantic_type\": \"\",\n        \"description\": \"\"\n      }\n    },\n    {\n      \"column\": \"y_pred\",\n      \"properties\": {\n        \"dtype\": \"number\",\n        \"std\": 1.9737804632057705,\n        \"min\": -8.306273460388184,\n        \"max\": 0.3556258976459503,\n        \"num_unique_values\": 64,\n        \"samples\": [\n          -4.513960361480713,\n          -1.413254737854004,\n          -2.1479780673980713\n        ],\n        \"semantic_type\": \"\",\n        \"description\": \"\"\n      }\n    }\n  ]\n}"
            }
          },
          "metadata": {},
          "execution_count": 35
        }
      ],
      "source": [
        "\n",
        "\n",
        "# Analyze the results for one batch\n",
        "test_batch = next(iter(test_loader))\n",
        "with torch.no_grad():\n",
        "    test_batch.to(device)\n",
        "    pred, embed = model(test_batch.x.float(), test_batch.edge_index, test_batch.batch)\n",
        "    df = pd.DataFrame()\n",
        "    df[\"y_real\"] = test_batch.y.tolist()\n",
        "    df[\"y_pred\"] = pred.tolist()\n",
        "df[\"y_real\"] = df[\"y_real\"].apply(lambda row: row[0])\n",
        "df[\"y_pred\"] = df[\"y_pred\"].apply(lambda row: row[0])\n",
        "df\n"
      ]
    },
    {
      "cell_type": "markdown",
      "id": "f80e742c",
      "metadata": {
        "id": "f80e742c"
      },
      "source": [
        "Let’s visualize the y_pred and y_original"
      ]
    },
    {
      "cell_type": "code",
      "execution_count": 36,
      "id": "763dd12c",
      "metadata": {
        "colab": {
          "base_uri": "https://localhost:8080/",
          "height": 472
        },
        "id": "763dd12c",
        "outputId": "a42712ba-cd0b-4246-ecf7-5f143ea5674b"
      },
      "outputs": [
        {
          "output_type": "execute_result",
          "data": {
            "text/plain": [
              "<Axes: xlabel='y_real', ylabel='y_pred'>"
            ]
          },
          "metadata": {},
          "execution_count": 36
        },
        {
          "output_type": "display_data",
          "data": {
            "text/plain": [
              "<Figure size 640x480 with 1 Axes>"
            ],
            "image/png": "[encoded data removed]"
          },
          "metadata": {}
        }
      ],
      "source": [
        "plt = sns.scatterplot(data=df, x=\"y_real\", y=\"y_pred\")\n",
        "plt.set(xlim=(-7, 2))\n",
        "plt.set(ylim=(-7, 2))\n",
        "plt"
      ]
    },
    {
      "cell_type": "code",
      "source": [
        "#Modification of code to compute and display the R2 and RMSE of the predicted values.\n",
        "\n",
        "import numpy as np\n",
        "from sklearn.metrics import mean_squared_error, r2_score\n",
        "\n",
        "y_pred = df['y_pred'].values\n",
        "y_real = df['y_real'].values\n",
        "rmse = np.sqrt(mean_squared_error(y_real, y_pred))\n",
        "r2= r2_score(y_real, y_pred)"
      ],
      "metadata": {
        "id": "NbX0drsas_Xe"
      },
      "id": "NbX0drsas_Xe",
      "execution_count": 38,
      "outputs": []
    },
    {
      "cell_type": "code",
      "source": [
        "plt = sns.scatterplot(data=df, x=\"y_real\", y=\"y_pred\")\n",
        "plt.set(xlim=(-7, 2))\n",
        "plt.set(ylim=(-7, 2))\n",
        "#plt.xlabel(\"Actual\")\n",
        "#plt.ylabel(\"Predicted\")\n",
        "plt.set_title(f\"RMSE: {rmse:.2f}, R2 = {r2:.2f}\")\n",
        "\n",
        "plt;"
      ],
      "metadata": {
        "colab": {
          "base_uri": "https://localhost:8080/",
          "height": 472
        },
        "id": "0zcajxHGuByk",
        "outputId": "b2e303e7-23e7-4c1a-c950-d19d85d0d552"
      },
      "id": "0zcajxHGuByk",
      "execution_count": 44,
      "outputs": [
        {
          "output_type": "display_data",
          "data": {
            "text/plain": [
              "<Figure size 640x480 with 1 Axes>"
            ],
            "image/png": "[encoded data removed]"
          },
          "metadata": {}
        }
      ]
    }
  ],
  "metadata": {
    "kernelspec": {
      "display_name": "Python 3",
      "language": "python",
      "name": "python3"
    },
    "language_info": {
      "codemirror_mode": {
        "name": "ipython",
        "version": 3
      },
      "file_extension": ".py",
      "mimetype": "text/x-python",
      "name": "python",
      "nbconvert_exporter": "python",
      "pygments_lexer": "ipython3",
      "version": "3.9.18"
    },
    "colab": {
      "provenance": [],
      "include_colab_link": true
    }
  },
  "nbformat": 4,
  "nbformat_minor": 5
}
